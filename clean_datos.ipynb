{
 "cells": [
  {
   "cell_type": "code",
   "execution_count": 3,
   "metadata": {},
   "outputs": [],
   "source": [
    "import pandas as pd\n",
    "import matplotlib.pyplot as plt\n",
    "import seaborn as sns\n",
    "\n",
    "from quickda.explore_data import *\n",
    "from quickda.clean_data import *\n",
    "from quickda.explore_numeric import *\n",
    "from quickda.explore_categoric import *\n",
    "from quickda.explore_numeric_categoric import *\n",
    "from quickda.explore_time_series import *"
   ]
  },
  {
   "cell_type": "code",
   "execution_count": 29,
   "metadata": {},
   "outputs": [
    {
     "name": "stdout",
     "output_type": "stream",
     "text": [
      "<class 'pandas.core.frame.DataFrame'>\n",
      "RangeIndex: 2463 entries, 0 to 2462\n",
      "Data columns (total 17 columns):\n",
      " #   Column             Non-Null Count  Dtype  \n",
      "---  ------             --------------  -----  \n",
      " 0   attendance         2463 non-null   object \n",
      " 1   away_team          2463 non-null   object \n",
      " 2   away_team_errors   2463 non-null   int64  \n",
      " 3   away_team_hits     2463 non-null   int64  \n",
      " 4   away_team_runs     2463 non-null   int64  \n",
      " 5   boxscore_url       2463 non-null   object \n",
      " 6   date               2463 non-null   object \n",
      " 7   field_type         0 non-null      float64\n",
      " 8   game_duration      2463 non-null   object \n",
      " 9   game_type          2460 non-null   object \n",
      " 10  home_team          2463 non-null   object \n",
      " 11  home_team_errors   2463 non-null   int64  \n",
      " 12  home_team_hits     2463 non-null   int64  \n",
      " 13  home_team_runs     2463 non-null   int64  \n",
      " 14  other_info_string  2463 non-null   object \n",
      " 15  start_time         2463 non-null   object \n",
      " 16  venue              2463 non-null   object \n",
      "dtypes: float64(1), int64(6), object(10)\n",
      "memory usage: 327.2+ KB\n"
     ]
    }
   ],
   "source": [
    "datos = pd.read_csv(\"baseball_reference_2016_scrape.csv\")\n",
    "datos.info()"
   ]
  },
  {
   "cell_type": "code",
   "execution_count": 32,
   "metadata": {},
   "outputs": [],
   "source": [
    "datos = clean(datos, method=\"standardize\")\n"
   ]
  },
  {
   "cell_type": "code",
   "execution_count": 33,
   "metadata": {},
   "outputs": [],
   "source": [
    "datos = clean(datos, method=\"duplicates\")\n"
   ]
  },
  {
   "cell_type": "code",
   "execution_count": 36,
   "metadata": {},
   "outputs": [],
   "source": [
    "datos = clean(datos, method=\"replaceval\",\n",
    "              # Si no se dan columnas, lo hace en todas\n",
    "              columns=['attendance'],\n",
    "              to_replace=\"']\",  # Si no se da el valor que debe ser reemplazado, no cambia nada\n",
    "              value=\" \")   # Si no se da el valor con que se reemplazará, utiliza el valor nulo\n"
   ]
  },
  {
   "cell_type": "code",
   "execution_count": 37,
   "metadata": {},
   "outputs": [
    {
     "name": "stdout",
     "output_type": "stream",
     "text": [
      "     attendance              away_team  away_team_errors  away_team_hits  \\\n",
      "0      40,030']          New York Mets                 1               7   \n",
      "1      21,621']  Philadelphia Phillies                 0               5   \n",
      "2      12,622']        Minnesota Twins                 0               5   \n",
      "3      18,531']   Washington Nationals                 0               8   \n",
      "4      18,572']       Colorado Rockies                 1               8   \n",
      "...         ...                    ...               ...             ...   \n",
      "2458   31,042']      Toronto Blue Jays                 2               7   \n",
      "2459   39,500']    St. Louis Cardinals                 0               5   \n",
      "2460   20,098']   San Francisco Giants                 0               6   \n",
      "2461   17,883']         Detroit Tigers                 0              13   \n",
      "2462   10,298']         Boston Red Sox                 1              10   \n",
      "\n",
      "      away_team_runs                                       boxscore_url  \\\n",
      "0                  3  https://www.baseball-reference.com/boxes/KCA/K...   \n",
      "1                  2  https://www.baseball-reference.com/boxes/CIN/C...   \n",
      "2                  2  https://www.baseball-reference.com/boxes/BAL/B...   \n",
      "3                  3  https://www.baseball-reference.com/boxes/ATL/A...   \n",
      "4                  4  https://www.baseball-reference.com/boxes/ARI/A...   \n",
      "...              ...                                                ...   \n",
      "2458               5  https://www.baseball-reference.com/boxes/TBA/T...   \n",
      "2459               1  https://www.baseball-reference.com/boxes/PIT/P...   \n",
      "2460               3  https://www.baseball-reference.com/boxes/MIL/M...   \n",
      "2461               7  https://www.baseball-reference.com/boxes/MIA/M...   \n",
      "2462               6  https://www.baseball-reference.com/boxes/CLE/C...   \n",
      "\n",
      "                          date  field_type game_duration  \\\n",
      "0        Sunday, April 3, 2016         NaN        : 3:13   \n",
      "1     Wednesday, April 6, 2016         NaN        : 2:23   \n",
      "2     Wednesday, April 6, 2016         NaN        : 3:11   \n",
      "3     Wednesday, April 6, 2016         NaN        : 2:53   \n",
      "4     Wednesday, April 6, 2016         NaN        : 2:39   \n",
      "...                        ...         ...           ...   \n",
      "2458     Sunday, April 3, 2016         NaN        : 2:51   \n",
      "2459     Sunday, April 3, 2016         NaN        : 3:02   \n",
      "2460  Wednesday, April 6, 2016         NaN        : 3:19   \n",
      "2461  Wednesday, April 6, 2016         NaN        : 3:22   \n",
      "2462  Wednesday, April 6, 2016         NaN        : 3:29   \n",
      "\n",
      "                 game_type             home_team  home_team_errors  \\\n",
      "0     Night Game, on grass    Kansas City Royals                 0   \n",
      "1     Night Game, on grass       Cincinnati Reds                 0   \n",
      "2     Night Game, on grass     Baltimore Orioles                 0   \n",
      "3     Night Game, on grass        Atlanta Braves                 1   \n",
      "4       Day Game, on grass  Arizona Diamondbacks                 0   \n",
      "...                    ...                   ...               ...   \n",
      "2458     Day Game, on turf        Tampa Bay Rays                 1   \n",
      "2459    Day Game, on grass    Pittsburgh Pirates                 1   \n",
      "2460    Day Game, on grass     Milwaukee Brewers                 2   \n",
      "2461    Day Game, on grass         Miami Marlins                 1   \n",
      "2462  Night Game, on grass     Cleveland Indians                 0   \n",
      "\n",
      "      home_team_hits  home_team_runs  \\\n",
      "0                  9               4   \n",
      "1                  8               3   \n",
      "2                  9               4   \n",
      "3                  8               1   \n",
      "4                  8               3   \n",
      "...              ...             ...   \n",
      "2458               7               3   \n",
      "2459               9               4   \n",
      "2460               9               4   \n",
      "2461              10               3   \n",
      "2462               9               7   \n",
      "\n",
      "                                      other_info_string  \\\n",
      "0     <!--  \\n    <div class=\"section_content\" id=\"d...   \n",
      "1     <!--  \\n    <div class=\"section_content\" id=\"d...   \n",
      "2     <!--  \\n    <div class=\"section_content\" id=\"d...   \n",
      "3     <!--  \\n    <div class=\"section_content\" id=\"d...   \n",
      "4     <!--  \\n    <div class=\"section_content\" id=\"d...   \n",
      "...                                                 ...   \n",
      "2458  <!--  \\n    <div class=\"section_content\" id=\"d...   \n",
      "2459  <!--  \\n    <div class=\"section_content\" id=\"d...   \n",
      "2460  <!--  \\n    <div class=\"section_content\" id=\"d...   \n",
      "2461  <!--  \\n    <div class=\"section_content\" id=\"d...   \n",
      "2462  <!--  \\n    <div class=\"section_content\" id=\"d...   \n",
      "\n",
      "                        start_time                          venue  \n",
      "0      Start Time: 7:38 p.m. Local             : Kauffman Stadium  \n",
      "1      Start Time: 7:11 p.m. Local     : Great American Ball Park  \n",
      "2      Start Time: 7:07 p.m. Local  : Oriole Park at Camden Yards  \n",
      "3      Start Time: 7:10 p.m. Local                 : Turner Field  \n",
      "4     Start Time: 12:40 p.m. Local                  : Chase Field  \n",
      "...                            ...                            ...  \n",
      "2458   Start Time: 4:09 p.m. Local              : Tropicana Field  \n",
      "2459   Start Time: 1:15 p.m. Local                     : PNC Park  \n",
      "2460  Start Time: 12:41 p.m. Local                  : Miller Park  \n",
      "2461   Start Time: 4:57 p.m. Local                 : Marlins Park  \n",
      "2462   Start Time: 6:22 p.m. Local            : Progressive Field  \n",
      "\n",
      "[2463 rows x 17 columns]\n"
     ]
    }
   ],
   "source": [
    "datos.to_csv(\"clean_files.csv\", index=False)\n",
    "print(datos)"
   ]
  }
 ],
 "metadata": {
  "kernelspec": {
   "display_name": "Python 3",
   "language": "python",
   "name": "python3"
  },
  "language_info": {
   "codemirror_mode": {
    "name": "ipython",
    "version": 3
   },
   "file_extension": ".py",
   "mimetype": "text/x-python",
   "name": "python",
   "nbconvert_exporter": "python",
   "pygments_lexer": "ipython3",
   "version": "3.9.1 (tags/v3.9.1:1e5d33e, Dec  7 2020, 17:08:21) [MSC v.1927 64 bit (AMD64)]"
  },
  "orig_nbformat": 4,
  "vscode": {
   "interpreter": {
    "hash": "81794d4967e6c3204c66dcd87b604927b115b27c00565d3d43f05ba2f3a2cb0d"
   }
  }
 },
 "nbformat": 4,
 "nbformat_minor": 2
}
